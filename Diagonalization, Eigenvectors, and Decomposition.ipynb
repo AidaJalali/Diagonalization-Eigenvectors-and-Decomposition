{
 "cells": [
  {
   "cell_type": "markdown",
   "metadata": {
    "id": "9hhIsepSG3o2"
   },
   "source": [
    "<br>\n",
    "<font>\n",
    "<div dir=ltr align=center>\n",
    "<br>\n",
    "<font color=0F5298 size=7>\n",
    "Diagonalization, Eigenvectors and Decomposition <br>\n"
   ]
  },
  {
   "cell_type": "markdown",
   "metadata": {
    "id": "L_yNz5LcG3o4"
   },
   "source": [
    "\n",
    "<h3 style='color: green;'>Purpose</h3>\n",
    "In this notebook, we will explore eigenvalues and eigenvectors, and demonstrate diagonalization of a matrix. We will also compare the performance of computing matrix powers using regular methods versus diagonalization."
   ]
  },
  {
   "cell_type": "markdown",
   "metadata": {
    "id": "badnPO4GG3o6"
   },
   "source": [
    "<h3 style='color: green;'>Imports</h3>\n",
    "import the necessary libraries."
   ]
  },
  {
   "cell_type": "code",
   "execution_count": 62,
   "metadata": {
    "ExecuteTime": {
     "end_time": "2024-06-20T22:54:03.574734Z",
     "start_time": "2024-06-20T22:54:03.571360Z"
    },
    "id": "YwsqXl1ZG3o7"
   },
   "outputs": [],
   "source": [
    "import numpy as np\n",
    "from IPython.display import display, HTML\n",
    "import matplotlib.pyplot as plt\n",
    "import timeit"
   ]
  },
  {
   "cell_type": "markdown",
   "metadata": {
    "id": "1-lWTHrjG3o7"
   },
   "source": [
    "<h3 style='color: green;'>Eigenvalues and Eigenvectors</h3>\n",
    "Eigenvalues and eigenvectors are fundamental concepts in linear algebra. For a given square matrix A, if there is a non-zero vector v such that Av = λv, then λ is called the eigenvalue and v is the corresponding eigenvector."
   ]
  },
  {
   "cell_type": "markdown",
   "metadata": {
    "id": "8Pv6LVjyG3o7"
   },
   "source": [
    "<h3 style='color: green;'>Functions for Eigenvalues and Eigenvectors</h3>\n",
    "We will define functions to compute eigenvalues and eigenvectors."
   ]
  },
  {
   "cell_type": "code",
   "execution_count": 63,
   "metadata": {
    "ExecuteTime": {
     "end_time": "2024-06-20T22:54:03.590103Z",
     "start_time": "2024-06-20T22:54:03.586103Z"
    },
    "id": "OPa2h3rmG3o8"
   },
   "outputs": [],
   "source": [
    "def compute_eigenvalues(A):\n",
    "    \"\"\"\n",
    "    Computes and returns a list of eigenvalues of the input matrix A.\n",
    "\n",
    "    Args:\n",
    "    A (numpy.ndarray): The input matrix for which eigenvalues are computed.\n",
    "\n",
    "    Returns:\n",
    "    eigenvalues (list): A list containing the eigenvalues of matrix A.\n",
    "    \"\"\"\n",
    "    col_sum =  (A[0,0] + A[1,1])\n",
    "    det = (A[0,0] * A[1,1] - (A[0,1]* A[1,0]))\n",
    "    delta = col_sum**2 - 4*det\n",
    "    eigenvalues = [(col_sum + np.sqrt(delta)) / 2, (col_sum - np.sqrt(delta)) / 2]\n",
    "    return eigenvalues\n",
    "\n",
    "    pass\n",
    "\n",
    "def compute_eigenvector(matrix, eigenvalue):\n",
    "    \"\"\"\n",
    "    Computes the eigenvector corresponding to the given eigenvalue of matrix A.\n",
    "\n",
    "    Args:\n",
    "    - A (numpy.ndarray): The square matrix.\n",
    "    - eigenvalue (float or complex): The eigenvalue for which the eigenvector is computed.\n",
    "\n",
    "    Returns:\n",
    "    - eigenvector (numpy.ndarray): The eigenvector corresponding to the input eigenvalue.\n",
    "    \"\"\"\n",
    "    dim = matrix.shape[0]\n",
    "    identity_matrix = np.eye(dim)\n",
    "    adjusted_matrix = matrix - eigenvalue * identity_matrix\n",
    "\n",
    "    eigenvector = np.zeros(dim)\n",
    "\n",
    "    if adjusted_matrix[0, 1] != 0:\n",
    "        eigenvector[0] = 1\n",
    "        eigenvector[1] = -adjusted_matrix[0, 0] / adjusted_matrix[0, 1]\n",
    "    elif adjusted_matrix[1, 0] != 0:\n",
    "        eigenvector[0] = 1\n",
    "        eigenvector[1] = -adjusted_matrix[1, 1] / adjusted_matrix[1, 0]\n",
    "    else:\n",
    "        return None\n",
    "\n",
    "    return eigenvector\n",
    "\n",
    "    pass\n",
    "\n",
    "def compute_eigenvectors(A):\n",
    "    \"\"\"\n",
    "    Computes the eigenvectors of the matrix A.\n",
    "\n",
    "    Args:\n",
    "    - A (numpy.ndarray): The square matrix for which eigenvectors are computed.\n",
    "\n",
    "    Returns:\n",
    "    - eigenvectors (list of numpy.ndarray): A list containing the eigenvectors of matrix A.\n",
    "    \"\"\"\n",
    "    eigenvalues = compute_eigenvalues(A)\n",
    "    eigenvectors_list = []\n",
    "\n",
    "    # Compute the eigenvectors for each eigenvalue\n",
    "    for value in eigenvalues:\n",
    "        eigenvector = compute_eigenvector(A, value)\n",
    "        eigenvectors_list.append(eigenvector)\n",
    "\n",
    "    return np.transpose(eigenvectors_list)\n",
    "\n",
    "    pass\n"
   ]
  },
  {
   "cell_type": "markdown",
   "metadata": {
    "id": "ZuE5YmroG3o9"
   },
   "source": [
    "<h3 style='color: green;'>Visualization of Vectors</h3>\n",
    "We will write a function to visualize vectors in 2D."
   ]
  },
  {
   "cell_type": "code",
   "execution_count": 64,
   "metadata": {
    "ExecuteTime": {
     "end_time": "2024-06-20T22:54:03.615375Z",
     "start_time": "2024-06-20T22:54:03.611231Z"
    },
    "id": "Z-LvcCT0G3o-"
   },
   "outputs": [],
   "source": [
    "def plot_vectors(vectors, colors, labels, title):\n",
    "    plt.figure()\n",
    "    plt.axhline(0, color='gray', lw=0.5)\n",
    "    plt.axvline(0, color='gray', lw=0.5)\n",
    "    plt.grid()\n",
    "    for vector, color, label in zip(vectors, colors, labels):\n",
    "        plt.quiver(0, 0, vector[0], vector[1], angles='xy', scale_units='xy', scale=1, color=color, label=label)\n",
    "    plt.xlim(-1.5, 1.5)\n",
    "    plt.ylim(-1.5, 1.5)\n",
    "    plt.legend()\n",
    "    plt.title(title)\n",
    "    plt.show()\n"
   ]
  },
  {
   "cell_type": "markdown",
   "metadata": {
    "id": "LyDyLZdzG3o-"
   },
   "source": [
    "<h3 style='color: green;'>Example with a Random Matrix</h3>\n",
    "We will generate a random 2D matrix with two independent eigenvectors and visualize them along with a random vector. Then we apply the transformation and plot them again."
   ]
  },
  {
   "cell_type": "code",
   "execution_count": 65,
   "metadata": {
    "ExecuteTime": {
     "end_time": "2024-06-20T22:54:03.630890Z",
     "start_time": "2024-06-20T22:54:03.627383Z"
    },
    "id": "Rde7P4QEG3o-"
   },
   "outputs": [],
   "source": [
    "def generate_valid_matrix():\n",
    "    while True:\n",
    "        A = np.random.rand(2, 2)\n",
    "        eigenvalues = np.linalg.eigvals(A)\n",
    "        if (np.all(np.isreal(eigenvalues)) and\n",
    "            len(set(eigenvalues)) == 2 and\n",
    "            np.all(np.abs(eigenvalues) > 0.33) and\n",
    "            np.all(np.abs(eigenvalues) < 3)):\n",
    "            return A"
   ]
  },
  {
   "cell_type": "code",
   "execution_count": 66,
   "metadata": {
    "ExecuteTime": {
     "end_time": "2024-06-20T22:54:31.221389Z",
     "start_time": "2024-06-20T22:54:31.010845Z"
    },
    "colab": {
     "base_uri": "https://localhost:8080/",
     "height": 887
    },
    "executionInfo": {
     "elapsed": 1068,
     "status": "ok",
     "timestamp": 1720014349112,
     "user": {
      "displayName": "Aida Jalali",
      "userId": "03489170947613651968"
     },
     "user_tz": -210
    },
    "id": "2P47KdsWG3o_",
    "outputId": "b842278d-917e-4dd7-d49b-2f55582adf9d"
   },
   "outputs": [
    {
     "data": {
      "image/png": "[encoded data removed]",
      "text/plain": [
       "<Figure size 640x480 with 1 Axes>"
      ]
     },
     "metadata": {},
     "output_type": "display_data"
    },
    {
     "data": {
      "image/png": "[encoded data removed]",
      "text/plain": [
       "<Figure size 640x480 with 1 Axes>"
      ]
     },
     "metadata": {},
     "output_type": "display_data"
    }
   ],
   "source": [
    "A = generate_valid_matrix()\n",
    "eigenvectors = compute_eigenvectors(A)\n",
    "\n",
    "random_vector = np.random.rand(2)\n",
    "\n",
    "plot_vectors([eigenvectors[:, 0], eigenvectors[:, 1], random_vector],\n",
    "             ['r', 'g', 'b'],\n",
    "             ['Eigenvector 1', 'Eigenvector 2', 'Random Vector'],\n",
    "             'Original Vectors')\n",
    "\n",
    "transformed_vectors = [A @ eigenvectors[:, 0], A @ eigenvectors[:, 1], A @ random_vector]\n",
    "\n",
    "plot_vectors(transformed_vectors,\n",
    "             ['r', 'g', 'b'],\n",
    "             ['Transformed Eigenvector 1', 'Transformed Eigenvector 2', 'Transformed Random Vector'],\n",
    "             'Transformed Vectors')"
   ]
  },
  {
   "cell_type": "markdown",
   "metadata": {
    "id": "VqZQGCiSG3pA"
   },
   "source": [
    "Eigenvectors are special vectors that, when transformed by the matrix\n",
    "𝐴\n",
    "A, only get scaled and do not change their direction (red vector). Other vectors may change both in magnitude and direction."
   ]
  },
  {
   "cell_type": "markdown",
   "metadata": {
    "id": "CrU96CfqG3pA"
   },
   "source": [
    "<h3 style='color: green;'>Diagonalization</h3>\n",
    "Diagonalization of a matrix involves finding a matrix P and a diagonal matrix D such that A = PDP^(-1). This is possible if A has n linearly independent eigenvectors."
   ]
  },
  {
   "cell_type": "code",
   "execution_count": 67,
   "metadata": {
    "ExecuteTime": {
     "end_time": "2024-06-20T22:54:03.846840Z",
     "start_time": "2024-06-20T22:54:03.841932Z"
    },
    "executionInfo": {
     "elapsed": 372,
     "status": "ok",
     "timestamp": 1720020442058,
     "user": {
      "displayName": "Aida Jalali",
      "userId": "03489170947613651968"
     },
     "user_tz": -210
    },
    "id": "3dS2y_22G3pA"
   },
   "outputs": [],
   "source": [
    "def diagonalize(A):\n",
    "    \"\"\"\n",
    "    Diagonalizes the square matrix A if possible using eigenvectors.\n",
    "\n",
    "    Args:\n",
    "    - A (numpy.ndarray): The square matrix to be diagonalized.\n",
    "\n",
    "    Returns:\n",
    "    - diagonal_matrix (numpy.ndarray): The diagonal matrix D such that A = PDP^-1,\n",
    "      where D is diagonal and P is the matrix of eigenvectors.\n",
    "\n",
    "    Attempts to diagonalize the input square matrix A using eigenvectors.\n",
    "    Returns the diagonal matrix D. You are allowed to use numpy.linalg.inv(P) to compute P^-1.\n",
    "    \"\"\"\n",
    "\n",
    "    eigen_values = compute_eigenvalues(A)\n",
    "    eigen_vectors = compute_eigenvectors(A)\n",
    "\n",
    "    P = np.array(eigen_vectors).T\n",
    "    P_prime = np.linalg.inv(P)\n",
    "    D = np.diag(eigen_values)\n",
    "\n",
    "    return P,D,P_prime\n"
   ]
  },
  {
   "cell_type": "code",
   "execution_count": 68,
   "metadata": {
    "ExecuteTime": {
     "end_time": "2024-06-20T22:54:03.852263Z",
     "start_time": "2024-06-20T22:54:03.847850Z"
    },
    "executionInfo": {
     "elapsed": 376,
     "status": "ok",
     "timestamp": 1720020422615,
     "user": {
      "displayName": "Aida Jalali",
      "userId": "03489170947613651968"
     },
     "user_tz": -210
    },
    "id": "gKmDm981G3pB"
   },
   "outputs": [],
   "source": [
    "def check_diagonalization(D, A):\n",
    "    is_diagonal = np.allclose(D, np.diag(np.diagonal(D)))\n",
    "    eigenvalues_A = np.linalg.eigvals(A)\n",
    "    diagonal_entries_D = np.diagonal(D)\n",
    "    has_correct_diagonal = np.allclose(np.sort(eigenvalues_A), np.sort(diagonal_entries_D))\n",
    "    has_all_eigenvalues = set(diagonal_entries_D) >= set(eigenvalues_A)\n",
    "\n",
    "    if is_diagonal and has_correct_diagonal and has_all_eigenvalues:\n",
    "        display(HTML('<font color=\"green\">All conditions satisfied:</font> Matrix D properly diagonalizes matrix A.'))\n",
    "    else:\n",
    "        if not is_diagonal:\n",
    "            display(HTML('<font color=\"red\">Error:</font> Matrix D is not diagonal.'))\n",
    "        if not has_correct_diagonal:\n",
    "            display(HTML('<font color=\"red\">Error:</font> Diagonal entries of D are not eigenvalues of A.'))\n",
    "        if not has_all_eigenvalues:\n",
    "            display(HTML('<font color=\"red\">Error:</font> D does not include all eigenvalues of A.'))\n"
   ]
  },
  {
   "cell_type": "code",
   "execution_count": 69,
   "metadata": {
    "ExecuteTime": {
     "end_time": "2024-06-20T22:54:03.858154Z",
     "start_time": "2024-06-20T22:54:03.853852Z"
    },
    "colab": {
     "base_uri": "https://localhost:8080/",
     "height": 34
    },
    "executionInfo": {
     "elapsed": 375,
     "status": "ok",
     "timestamp": 1720020460055,
     "user": {
      "displayName": "Aida Jalali",
      "userId": "03489170947613651968"
     },
     "user_tz": -210
    },
    "id": "rI9_28RIG3pB",
    "outputId": "0fbb4a50-cc85-4b24-bce4-23c589a44f00"
   },
   "outputs": [
    {
     "data": {
      "text/html": [
       "<font color=\"red\">Error:</font> D does not include all eigenvalues of A."
      ],
      "text/plain": [
       "<IPython.core.display.HTML object>"
      ]
     },
     "metadata": {},
     "output_type": "display_data"
    }
   ],
   "source": [
    "A = generate_valid_matrix()\n",
    "P,D,P_prime = diagonalize(A)\n",
    "\n",
    "check_diagonalization(D, A)"
   ]
  },
  {
   "cell_type": "markdown",
   "metadata": {
    "id": "F7cqr4RZG3pB"
   },
   "source": [
    "<h3 style='color: green;'>Properties of Diagonalized Matrix</h3>\n",
    "A diagonalized matrix has its eigenvalues on the diagonal. It is easier to compute powers of a diagonal matrix."
   ]
  },
  {
   "cell_type": "markdown",
   "metadata": {
    "id": "J-mkeg0rG3pD"
   },
   "source": [
    "we can speed up the process of calculating powers of a matrix by using diagonalization."
   ]
  },
  {
   "cell_type": "markdown",
   "metadata": {
    "id": "ll0pEQQPG3pD"
   },
   "source": [
    "Diagonalization is a technique that involves expressing a matrix A as a product of three matrices: D, P, and P^(-1), where D is a diagonal matrix containing the eigenvalues of A, and P is a matrix with the eigenvectors of A as columns. This representation allows us to simplify the calculation of powers of A by using the formula A^n = PD^nP^(-1), which reduces the computational complexity and speeds up the process, particularly for large matrices or high powers."
   ]
  },
  {
   "cell_type": "markdown",
   "metadata": {
    "id": "0MfFDZNWG3pD"
   },
   "source": [
    "<h3 style='color: green;'>Performance Comparison</h3>\n",
    "We will compare the time taken to compute matrix powers using regular methods versus diagonalization."
   ]
  },
  {
   "cell_type": "markdown",
   "metadata": {
    "id": "XkskzF7lG3pD"
   },
   "source": [
    "First, we will compute the powers of a matrix using the regular method."
   ]
  },
  {
   "cell_type": "code",
   "execution_count": 70,
   "metadata": {
    "ExecuteTime": {
     "end_time": "2024-06-20T22:54:03.862049Z",
     "start_time": "2024-06-20T22:54:03.858154Z"
    },
    "executionInfo": {
     "elapsed": 420,
     "status": "ok",
     "timestamp": 1720019903368,
     "user": {
      "displayName": "Aida Jalali",
      "userId": "03489170947613651968"
     },
     "user_tz": -210
    },
    "id": "kUUJ_6ctG3pD"
   },
   "outputs": [],
   "source": [
    "def compute_powers(A, n):\n",
    "    result = A\n",
    "    for _ in range(n-1):\n",
    "        result = result @ A\n",
    "    return result"
   ]
  },
  {
   "cell_type": "code",
   "execution_count": 71,
   "metadata": {
    "ExecuteTime": {
     "end_time": "2024-06-20T22:54:03.865650Z",
     "start_time": "2024-06-20T22:54:03.863108Z"
    },
    "executionInfo": {
     "elapsed": 392,
     "status": "ok",
     "timestamp": 1720019906750,
     "user": {
      "displayName": "Aida Jalali",
      "userId": "03489170947613651968"
     },
     "user_tz": -210
    },
    "id": "AVuKLc6aG3pD"
   },
   "outputs": [],
   "source": [
    "n_values = range(1, 200)"
   ]
  },
  {
   "cell_type": "code",
   "execution_count": 72,
   "metadata": {
    "ExecuteTime": {
     "end_time": "2024-06-20T22:54:03.910618Z",
     "start_time": "2024-06-20T22:54:03.866646Z"
    },
    "executionInfo": {
     "elapsed": 2,
     "status": "ok",
     "timestamp": 1720019909166,
     "user": {
      "displayName": "Aida Jalali",
      "userId": "03489170947613651968"
     },
     "user_tz": -210
    },
    "id": "yaw7gGSoG3pD"
   },
   "outputs": [],
   "source": [
    "regular_times = []\n",
    "\n",
    "for n in n_values:\n",
    "    timer = timeit.Timer(lambda: compute_powers(A, n))\n",
    "    regular_times.append(timer.timeit(number=1))"
   ]
  },
  {
   "cell_type": "markdown",
   "metadata": {
    "id": "yDFbIMA9G3pE"
   },
   "source": [
    "Next, we will use your method for calculating power of a matrix."
   ]
  },
  {
   "cell_type": "code",
   "execution_count": 73,
   "metadata": {
    "ExecuteTime": {
     "end_time": "2024-06-20T22:54:03.915506Z",
     "start_time": "2024-06-20T22:54:03.911637Z"
    },
    "executionInfo": {
     "elapsed": 399,
     "status": "ok",
     "timestamp": 1720020668822,
     "user": {
      "displayName": "Aida Jalali",
      "userId": "03489170947613651968"
     },
     "user_tz": -210
    },
    "id": "1VmwTfB8G3pE"
   },
   "outputs": [],
   "source": [
    "def compute_powers_your_way(A, n):\n",
    "\n",
    "    P, D, P_prime = diagonalize(A)\n",
    "    D_Npowered = np.diag(np.diagonal(D) ** n)\n",
    "\n",
    "    \"\"\"\n",
    "    Computes the power of a square matrix A to the nth degree.\n",
    "\n",
    "    Args:\n",
    "    - A (numpy.ndarray): The square matrix for which powers are computed.\n",
    "    - n (int): The exponent to which A is raised.\n",
    "\n",
    "    Returns:\n",
    "    - result (numpy.ndarray): The matrix A raised to the power of n.\n",
    "\n",
    "    \"\"\"\n",
    "    return P @ D_Npowered @ P_prime\n",
    "    pass"
   ]
  },
  {
   "cell_type": "code",
   "execution_count": 74,
   "metadata": {
    "ExecuteTime": {
     "end_time": "2024-06-20T22:54:03.952957Z",
     "start_time": "2024-06-20T22:54:03.916022Z"
    },
    "executionInfo": {
     "elapsed": 1,
     "status": "ok",
     "timestamp": 1720020672657,
     "user": {
      "displayName": "Aida Jalali",
      "userId": "03489170947613651968"
     },
     "user_tz": -210
    },
    "id": "RxVs7iRZG3pE"
   },
   "outputs": [],
   "source": [
    "diagonal_times = []\n",
    "\n",
    "for n in n_values:\n",
    "    timer = timeit.Timer(lambda: compute_powers_your_way(A, n))\n",
    "    diagonal_times.append(timer.timeit(number=1))"
   ]
  },
  {
   "cell_type": "markdown",
   "metadata": {
    "id": "YBljoByjG3pF"
   },
   "source": [
    "Finally, we will plot the results to compare the performance of both methods."
   ]
  },
  {
   "cell_type": "code",
   "execution_count": 75,
   "metadata": {
    "ExecuteTime": {
     "end_time": "2024-06-20T22:54:04.092221Z",
     "start_time": "2024-06-20T22:54:03.955046Z"
    },
    "colab": {
     "base_uri": "https://localhost:8080/",
     "height": 472
    },
    "executionInfo": {
     "elapsed": 1134,
     "status": "ok",
     "timestamp": 1720020686386,
     "user": {
      "displayName": "Aida Jalali",
      "userId": "03489170947613651968"
     },
     "user_tz": -210
    },
    "id": "yzRujDBlG3pF",
    "outputId": "5797f20d-f481-429c-ded2-4d31e6f1de38"
   },
   "outputs": [
    {
     "data": {
      "image/png": "[encoded data removed]",
      "text/plain": [
       "<Figure size 640x480 with 1 Axes>"
      ]
     },
     "metadata": {},
     "output_type": "display_data"
    }
   ],
   "source": [
    "plt.plot(n_values, regular_times, label='Regular Method')\n",
    "plt.plot(n_values, diagonal_times, label='Diagonalization Method')\n",
    "plt.xlabel('Exponent (n)')\n",
    "plt.ylabel('Time (s)')\n",
    "plt.legend()\n",
    "plt.title('Performance Comparison')\n",
    "plt.show()"
   ]
  },
  {
   "cell_type": "markdown",
   "metadata": {
    "id": "5kwiT2jIHGvK"
   },
   "source": [
    "<h3 style='color: green;'>Background: </h3>\n",
    "\n",
    "QR decomposition is a matrix factorization technique that decomposes a matrix\n",
    "𝐴\n",
    "into an orthogonal matrix\n",
    "𝑄\n",
    "and an upper triangular matrix\n",
    "𝑅\n",
    "R. The Gram-Schmidt process is a method for orthogonalizing a set of vectors in an inner product space, which forms the basis of this decomposition.\n",
    "\n",
    "<h3 style='color: green;'>Gram-Schmidt Process: </h3>\n",
    "\n",
    "A method to orthogonalize a set of vectors in an inner product space.\n",
    "\n",
    "<h3 style='color: green;'>Theory: </h3>\n",
    "\n",
    "Given a matrix\n",
    "$ 𝐴 ∈ 𝑅^{𝑚 × 𝑛} $ , QR decomposition aims to find an orthogonal matrix\n",
    "$ Q ∈ 𝑅^{𝑚 × 𝑛} $ and an upper triangular matrix  $ R ∈ 𝑅^{n × 𝑛} $ such that:\n",
    "$ A = Q R $\n",
    "\n",
    "**QR decompostion step by step :**"
   ]
  },
  {
   "cell_type": "code",
   "execution_count": 76,
   "metadata": {
    "executionInfo": {
     "elapsed": 388,
     "status": "ok",
     "timestamp": 1720021233972,
     "user": {
      "displayName": "Aida Jalali",
      "userId": "03489170947613651968"
     },
     "user_tz": -210
    },
    "id": "sj-lMxxMHcat"
   },
   "outputs": [],
   "source": [
    "def gram_schmidt(A):\n",
    "    n, m = A.shape\n",
    "    Q = np.zeros((n, m))\n",
    "    R = np.zeros((m, m))\n",
    "\n",
    "    for i in range(m):\n",
    "        v = A[:, i]\n",
    "\n",
    "        for j in range(i):\n",
    "            R[j, i] = np.dot(Q[:, j], A[:, i])\n",
    "            v = v - R[j, i] * Q[:, j]\n",
    "\n",
    "\n",
    "        R[i, i] = np.linalg.norm(v)\n",
    "        Q[:, i] = v / R[i, i]\n",
    "\n",
    "    return Q, R\n"
   ]
  },
  {
   "cell_type": "markdown",
   "metadata": {
    "id": "PkYIyxBmHfJ5"
   },
   "source": [
    "Now, let's check if the decompostion."
   ]
  },
  {
   "cell_type": "code",
   "execution_count": 77,
   "metadata": {
    "colab": {
     "base_uri": "https://localhost:8080/"
    },
    "executionInfo": {
     "elapsed": 418,
     "status": "ok",
     "timestamp": 1720021167926,
     "user": {
      "displayName": "Aida Jalali",
      "userId": "03489170947613651968"
     },
     "user_tz": -210
    },
    "id": "Am892MuUHhFz",
    "outputId": "cd075ed2-f9b2-445f-fe0c-9d8b46ffacf8"
   },
   "outputs": [
    {
     "name": "stdout",
     "output_type": "stream",
     "text": [
      "Matrix A:\n",
      "[[0.6564102  0.65423037 0.72810937 0.8190777 ]\n",
      " [0.11591113 0.51139461 0.88876004 0.05218884]\n",
      " [0.54684614 0.33131713 0.98037294 0.28063752]\n",
      " [0.71466129 0.27198314 0.35151661 0.51149335]]\n",
      "\n",
      "Orthogonal matrix Q:\n",
      "[[ 0.58615268  0.38307564 -0.51052753  0.4990388 ]\n",
      " [ 0.10350482  0.81891161  0.22890555 -0.51601625]\n",
      " [ 0.48831559 -0.08644304  0.80764525  0.31903703]\n",
      " [ 0.63816899 -0.41852649 -0.18620698 -0.61879146]]\n",
      "\n",
      "Upper triangular matrix R:\n",
      "[[ 1.11986214  0.77176922  1.2218326   0.94896526]\n",
      " [ 0.          0.5269345   0.77487145  0.11817408]\n",
      " [ 0.          0.          0.55806094 -0.27480347]\n",
      " [ 0.          0.          0.          0.15484731]]\n",
      "\n",
      "Check A = QR: True\n",
      "\n",
      "Check Q^T Q = I: True\n"
     ]
    }
   ],
   "source": [
    "def test_QR_decomposition():\n",
    "    A = np.random.random((4, 4))\n",
    "    Q, R = gram_schmidt(A)\n",
    "    print(\"Matrix A:\")\n",
    "    print(A)\n",
    "    print(\"\\nOrthogonal matrix Q:\")\n",
    "    print(Q)\n",
    "    print(\"\\nUpper triangular matrix R:\")\n",
    "    print(R)\n",
    "    print(f\"\\nCheck A = QR: {np.allclose(A, np.dot(Q, R))}\")\n",
    "    print(f\"\\nCheck Q^T Q = I: {np.allclose(np.dot(Q.T, Q), np.eye(Q.shape[1]))}\")\n",
    "\n",
    "test_QR_decomposition()"
   ]
  },
  {
   "cell_type": "markdown",
   "metadata": {
    "id": "-owPtKScHjlA"
   },
   "source": [
    "In this section, we will implement [Househodler reflection](https://en.wikipedia.org/wiki/Householder_transformation) method to compute QR decomposition.\n",
    "\n",
    "<h3 style='color: green;'>Concept of Householder Reflections: </h3>\n",
    "\n",
    "Householder reflections are used to zero out specific elements of a vector or matrix. A Householder reflection is defined by a vector\n",
    "𝑣 and it generates a matrix  𝐻 such that:\n",
    "$$ 𝐻 = 𝐼 − 2𝑣𝑣^𝑇 $$\n",
    "where  𝑣 is a unit vector. This transformation is used to reflect a vector about a plane or hyperplane. When applied to a vector, it can zero out all elements below the first one, which is useful for transforming a matrix into an upper triangular form.\n",
    "\n",
    "<h3 style='color: green;'>Using Householder Reflections for QR Decomposition: </h3>\n",
    "\n",
    "The goal is to decompose a matrix\n",
    "𝐴 into an orthogonal matrix 𝑄 and an upper triangular matrix 𝑅. Householder reflections are used to systematically zero out the sub-diagonal elements of\n",
    "𝐴 transforming it into\n",
    "𝑅. The orthogonal matrix\n",
    "𝑄 is the product of all Householder matrices used in the process."
   ]
  },
  {
   "cell_type": "code",
   "execution_count": 78,
   "metadata": {
    "executionInfo": {
     "elapsed": 398,
     "status": "ok",
     "timestamp": 1720021416491,
     "user": {
      "displayName": "Aida Jalali",
      "userId": "03489170947613651968"
     },
     "user_tz": -210
    },
    "id": "YQY0Q_R1HlaK"
   },
   "outputs": [],
   "source": [
    "def householder_reflection(a):\n",
    "    v = a.copy()\n",
    "    v[0] += np.sign(a[0]) * np.linalg.norm(a)\n",
    "    v = v / np.linalg.norm(v)\n",
    "\n",
    "    H = np.eye(a.shape[0]) - 2 * np.outer(v, v)\n",
    "    return H\n",
    "\n",
    "def qr_householder(A):\n",
    "    m, n = A.shape\n",
    "    Q = np.eye(m)\n",
    "    R = A.copy()\n",
    "\n",
    "    for i in range(min(m, n)):\n",
    "        x = R[i:, i]\n",
    "\n",
    "        H_i = np.eye(m)\n",
    "        H = householder_reflection(x)\n",
    "        H_i[i:, i:] = H\n",
    "\n",
    "        R = H_i @ R\n",
    "        Q = Q @ H_i\n",
    "\n",
    "    return Q, R"
   ]
  },
  {
   "cell_type": "markdown",
   "metadata": {
    "id": "jl--0YygHoHu"
   },
   "source": [
    "Check the decompostion.\n"
   ]
  },
  {
   "cell_type": "code",
   "execution_count": 79,
   "metadata": {
    "colab": {
     "base_uri": "https://localhost:8080/"
    },
    "executionInfo": {
     "elapsed": 358,
     "status": "ok",
     "timestamp": 1720021419620,
     "user": {
      "displayName": "Aida Jalali",
      "userId": "03489170947613651968"
     },
     "user_tz": -210
    },
    "id": "ALYaP8uhHovM",
    "outputId": "887c098f-71ae-4000-a5c7-d3ee402e1a9a"
   },
   "outputs": [
    {
     "name": "stdout",
     "output_type": "stream",
     "text": [
      "Matrix A:\n",
      "[[0.11606108 0.79703564 0.33980997 0.28426453]\n",
      " [0.53418423 0.25687137 0.24929575 0.52624964]\n",
      " [0.36726606 0.42148913 0.46993458 0.37520707]\n",
      " [0.34665394 0.81681318 0.74237325 0.11422504]]\n",
      "\n",
      "Orthogonal matrix Q:\n",
      "[[ 0.15594815  0.76325879 -0.60319781  0.17108067]\n",
      " [ 0.71776898 -0.44957468 -0.45927675 -0.26787156]\n",
      " [ 0.49348552 -0.02466187  0.32507507  0.80634362]\n",
      " [ 0.46578957  0.46336856  0.56528176 -0.49878472]]\n",
      "\n",
      "Upper triangular matrix R:\n",
      "[[ 0.74422865  0.89713236  0.80962512  0.66042028]\n",
      " [ 0.          0.86095243  0.47968885  0.02405387]\n",
      " [ 0.          0.          0.2529457  -0.22662217]\n",
      " [ 0.          0.          0.          0.15323697]]\n",
      "\n",
      "Check A = QR: True\n",
      "\n",
      "Check Q^T Q = I: True\n"
     ]
    }
   ],
   "source": [
    "test_QR_decomposition()"
   ]
  },
  {
   "cell_type": "markdown",
   "metadata": {
    "id": "GKPR8aUzHsZt"
   },
   "source": [
    "<h3 style='color: green;'> Calculating Eigenvalues Using QR Decomposition </h3>\n",
    "\n",
    "Eigenvalues and eigenvectors are fundamental concepts in linear algebra, playing a crucial role in various mathematical and scientific applications. One efficient method to compute eigenvalues of a matrix is through QR decomposition. In this section, we will use QR decomposition to estimate eigenvalues and eigenvectors.\n",
    "\n",
    "The QR algorithm utilizes QR decomposition iteratively to approximate eigenvalues of $ A $. Here’s a step-by-step outline of how this process works:\n",
    "\n",
    "1. **Initial Setup:**\n",
    "   - Start with a square matrix $ A $.\n",
    "\n",
    "2. **QR Decomposition Iteration:**\n",
    "   - Decompose $ A $ into $ Q $ and R such that:\n",
    "\n",
    "     $$ A^{(0)} = Q^{(0)} R^{(0)} $$\n",
    "\n",
    "   - Update $ A $ iteratively:\n",
    "\n",
    "     $$ A^{(k)} = R^{(k-1)} Q^{(k-1)} $$\n",
    "   - Convergence is typically checked by ensuring $ A^{(k)} $ becomes increasingly upper triangular or converges to a diagonal matrix.\n",
    "\n",
    "3. **Extracting Eigenvalues:**\n",
    "   - After convergence, the diagonal elements of the upper triangular matrix $ A^{(k)} $ are the eigenvalues of $ A $."
   ]
  },
  {
   "cell_type": "code",
   "execution_count": 80,
   "metadata": {
    "executionInfo": {
     "elapsed": 372,
     "status": "ok",
     "timestamp": 1720021354139,
     "user": {
      "displayName": "Aida Jalali",
      "userId": "03489170947613651968"
     },
     "user_tz": -210
    },
    "id": "v7RBDvXKHuAf"
   },
   "outputs": [],
   "source": [
    "def qr_householder(A):\n",
    "    m, n = A.shape\n",
    "    Q_total = np.eye(m)\n",
    "    R = A.copy()\n",
    "\n",
    "    for i in range(min(m, n)):\n",
    "        x = R[i:, i]\n",
    "        H_i = np.eye(m)\n",
    "        H = householder_reflection(x)\n",
    "        H_i[i:, i:] = H\n",
    "\n",
    "        R = H_i @ R\n",
    "        Q_total = Q_total @ H_i\n",
    "\n",
    "    return Q_total, R\n",
    "\n",
    "def householder_reflection(a):\n",
    "    v = a.copy()\n",
    "    v[0] += np.sign(a[0]) * np.linalg.norm(a)\n",
    "    v = v / np.linalg.norm(v)\n",
    "\n",
    "    H = np.eye(a.shape[0]) - 2 * np.outer(v, v)\n",
    "    return H\n",
    "\n",
    "def qr_algorithm(A, num_iterations=100000, tol=1e-10):\n",
    "    A = A.copy()\n",
    "    m, n = A.shape\n",
    "    Q_total = np.eye(m)\n",
    "\n",
    "    for _ in range(num_iterations):\n",
    "        Q, R = qr_householder(A)\n",
    "        A = R @ Q\n",
    "        Q_total = Q_total @ Q\n",
    "\n",
    "        off_diagonal = np.sqrt(np.sum(np.tril(A, -1)**2))\n",
    "        if off_diagonal < tol:\n",
    "            break\n",
    "\n",
    "    eigenvalues = np.diag(A)\n",
    "    return eigenvalues, Q_total\n",
    "\n",
    "def compute_eigenvectors(A, eigenvalues):\n",
    "    n = A.shape[0]\n",
    "    eigenvectors = np.zeros((n, n))\n",
    "\n",
    "    for i, eigenvalue in enumerate(eigenvalues):\n",
    "        I = np.eye(n)\n",
    "        A_shifted = A - eigenvalue * I\n",
    "        _, _, vh = np.linalg.svd(A_shifted)\n",
    "        eigenvectors[:, i] = vh[-1, :]\n",
    "\n",
    "    return eigenvectors"
   ]
  },
  {
   "cell_type": "markdown",
   "metadata": {
    "id": "_uy-zBLoHzC4"
   },
   "source": [
    "Now we verify our results. "
   ]
  },
  {
   "cell_type": "code",
   "execution_count": 81,
   "metadata": {
    "colab": {
     "base_uri": "https://localhost:8080/"
    },
    "executionInfo": {
     "elapsed": 401,
     "status": "ok",
     "timestamp": 1720021364194,
     "user": {
      "displayName": "Aida Jalali",
      "userId": "03489170947613651968"
     },
     "user_tz": -210
    },
    "id": "q4Gxnb1sHwH7",
    "outputId": "dc43a5b1-083b-42dd-fc45-eda8f1a875f8"
   },
   "outputs": [
    {
     "name": "stdout",
     "output_type": "stream",
     "text": [
      "Matrix A:\n",
      "[[0.93609089 0.46687172 0.58174818 0.52255084]\n",
      " [0.16643936 0.53956825 0.32509303 0.65019906]\n",
      " [0.82067678 0.17089197 0.79089464 0.07105367]\n",
      " [0.56254232 0.94403926 0.09804098 0.27069575]]\n",
      "\n",
      "Eigenvalues (QR Algorithm):\n",
      "[ 2.02154771  0.74466998 -0.4677826   0.23881444]\n",
      "\n",
      "Eigenvectors (QR Algorithm):\n",
      "[[-0.6425704  -0.08394289  0.18248912 -0.51872984]\n",
      " [-0.37477775  0.39021446  0.53928003  0.24401901]\n",
      " [-0.50577138 -0.75406581 -0.14653819  0.74066544]\n",
      " [-0.43685263  0.52160427 -0.80895076 -0.35041231]]\n",
      "\n",
      "Verification (A @ eigenvectors - eigenvectors @ np.diag(eigenvalues)):\n",
      "True\n",
      "\n",
      "Eigenvalues (NumPy):\n",
      "[ 2.02154771 -0.4677826   0.23881444  0.74466998]\n",
      "\n",
      "Eigenvectors (NumPy):\n",
      "[[-0.6425704  -0.18248912  0.51872984 -0.08394289]\n",
      " [-0.37477775 -0.53928003 -0.24401901  0.39021446]\n",
      " [-0.50577138  0.14653819 -0.74066544 -0.75406581]\n",
      " [-0.43685263  0.80895076  0.35041231  0.52160427]]\n",
      "\n",
      "Verification with NumPy (Eigenvalues):\n",
      "True\n"
     ]
    }
   ],
   "source": [
    "def test_qr_algorithm():\n",
    "    A = np.random.random((4,4))\n",
    "    eigenvalues, Q_total = qr_algorithm(A)\n",
    "\n",
    "    eigenvectors = compute_eigenvectors(A, eigenvalues)\n",
    "    print(\"Matrix A:\")\n",
    "    print(A)\n",
    "    print(\"\\nEigenvalues (QR Algorithm):\")\n",
    "    print(eigenvalues)\n",
    "    print(\"\\nEigenvectors (QR Algorithm):\")\n",
    "    print(eigenvectors)\n",
    "\n",
    "    # Verify the results\n",
    "    print(\"\\nVerification (A @ eigenvectors - eigenvectors @ np.diag(eigenvalues)):\")\n",
    "    print(np.allclose(A @ eigenvectors, eigenvectors @ np.diag(eigenvalues)))\n",
    "\n",
    "    # Compare with NumPy's eig function\n",
    "    np_eigenvalues, np_eigenvectors = np.linalg.eig(A)\n",
    "    np_eigenvalues = np_eigenvalues.real\n",
    "\n",
    "    print(\"\\nEigenvalues (NumPy):\")\n",
    "    print(np_eigenvalues)\n",
    "\n",
    "    print(\"\\nEigenvectors (NumPy):\")\n",
    "    print(np_eigenvectors)\n",
    "\n",
    "    print(\"\\nVerification with NumPy (Eigenvalues):\")\n",
    "    print(np.allclose(np.sort(eigenvalues), np.sort(np_eigenvalues)))\n",
    "\n",
    "test_qr_algorithm()"
   ]
  },
  {
   "cell_type": "markdown",
   "metadata": {
    "id": "e0DYHfIhH4Jo"
   },
   "source": [
    "<h3 style='color: green;'> Conclusion: </h3>\n",
    "\n",
    "\n",
    "QR decomposition offers a powerful method for computing eigenvalues numerically. Its iterative nature makes it suitable for matrices of varying sizes and complexities, providing a robust approach to solving eigenvalue problems in practice.\n"
   ]
  }
 ],
 "metadata": {
  "colab": {
   "provenance": []
  },
  "kernelspec": {
   "display_name": "Python 3 (ipykernel)",
   "language": "python",
   "name": "python3"
  },
  "language_info": {
   "codemirror_mode": {
    "name": "ipython",
    "version": 3
   },
   "file_extension": ".py",
   "mimetype": "text/x-python",
   "name": "python",
   "nbconvert_exporter": "python",
   "pygments_lexer": "ipython3",
   "version": "3.11.7"
  }
 },
 "nbformat": 4,
 "nbformat_minor": 4
}
